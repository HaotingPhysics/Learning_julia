{
 "cells": [
  {
   "cell_type": "code",
   "execution_count": 4,
   "id": "6567e6e2",
   "metadata": {},
   "outputs": [
    {
     "name": "stdout",
     "output_type": "stream",
     "text": [
      "1000\n"
     ]
    }
   ],
   "source": [
    "x =10\n",
    "y = x^3 \n",
    "println(y)"
   ]
  },
  {
   "cell_type": "code",
   "execution_count": 8,
   "id": "4a3c3550",
   "metadata": {},
   "outputs": [
    {
     "data": {
      "text/plain": [
       "\"这也行？\""
      ]
     },
     "execution_count": 8,
     "metadata": {},
     "output_type": "execute_result"
    }
   ],
   "source": [
    "customary_phrase = \"Hello world\"\n",
    "变量= \"哈哈哈哈哈，能写中文？有点离谱\"\n",
    "δ= \"这也行？\""
   ]
  },
  {
   "cell_type": "code",
   "execution_count": 10,
   "id": "51b009f8",
   "metadata": {},
   "outputs": [
    {
     "data": {
      "text/plain": [
       "π = 3.1415926535897..."
      ]
     },
     "execution_count": 10,
     "metadata": {},
     "output_type": "execute_result"
    }
   ],
   "source": [
    "π"
   ]
  },
  {
   "cell_type": "code",
   "execution_count": 11,
   "id": "c07a35e8",
   "metadata": {},
   "outputs": [
    {
     "data": {
      "text/plain": [
       "kron (generic function with 21 methods)"
      ]
     },
     "execution_count": 11,
     "metadata": {},
     "output_type": "execute_result"
    }
   ],
   "source": [
    "⊗ = kron"
   ]
  },
  {
   "cell_type": "code",
   "execution_count": 12,
   "id": "f51cd8ba",
   "metadata": {},
   "outputs": [
    {
     "data": {
      "text/plain": [
       "(2, 2)"
      ]
     },
     "execution_count": 12,
     "metadata": {},
     "output_type": "execute_result"
    }
   ],
   "source": [
    "x, ___ = size([2 2; 1 1])"
   ]
  },
  {
   "cell_type": "code",
   "execution_count": null,
   "id": "dc6bb0f5",
   "metadata": {},
   "outputs": [],
   "source": []
  }
 ],
 "metadata": {
  "kernelspec": {
   "display_name": "Julia 1.7.2",
   "language": "julia",
   "name": "julia-1.7"
  },
  "language_info": {
   "file_extension": ".jl",
   "mimetype": "application/julia",
   "name": "julia",
   "version": "1.7.2"
  }
 },
 "nbformat": 4,
 "nbformat_minor": 5
}
